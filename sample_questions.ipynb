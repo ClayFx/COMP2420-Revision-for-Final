{
 "cells": [
  {
   "cell_type": "markdown",
   "metadata": {},
   "source": [
    "# COMP2420/6420 - Introduction to Data Management, Analysis and Security\n",
    "\n",
    "\n",
    "### Australian National University\n",
    "\n",
    "### College of Engineering and Computer Science"
   ]
  },
  {
   "cell_type": "markdown",
   "metadata": {},
   "source": [
    "Sample Exam \n",
    "============\n",
    "\n",
    "  \n",
    "**Note:**\n",
    "\n",
    "1. Questions here are just for giving you an idea about exam and environment\n",
    "2. Number of questions in exams might differ from here\n",
    "3. Difficulty level in exams might be a bit higher than the questions here\n",
    "4. You should expect questions for material/concepts covered in lectures, labs and assignments.\n"
   ]
  },
  {
   "cell_type": "markdown",
   "metadata": {},
   "source": [
    "### Student Id1: uXXXXXXX"
   ]
  },
  {
   "cell_type": "markdown",
   "metadata": {},
   "source": [
    "# Database"
   ]
  },
  {
   "cell_type": "markdown",
   "metadata": {},
   "source": [
    "Questions 1 and 2 refer to the Supplier-Part-Jobs database. The scheme for this database is as follows:\n",
    "\n",
    "suppliers (s_id, name, status, city)  \n",
    "parts (p_id, name, colour, weight, city)  \n",
    "job (j_id, name, city)  \n",
    "supplier_inventory (s_id, p_id, quantity)  \n",
    "requests (s_id, p_id, j_id, quantity)  "
   ]
  },
  {
   "cell_type": "markdown",
   "metadata": {},
   "source": [
    "## 1. Relational Algebra \n",
    "Please evaluate the following relational algebra expressions on the following presented subset of the S-P-J database.\n",
    "\n",
    "Suppliers (S):\n",
    "\n",
    " s_id  |         name         | status |      city\n",
    "------ |----------------------|--------|-----------------\n",
    " S1    | Smith                |     20 | London\n",
    " S2    | Jones                |     10 | Paris\n",
    " S3    | Blake                |     30 | Paris\n",
    "\n",
    "\n",
    "Parts (P):\n",
    "\n",
    "  p_id  |         name         | colour | weight |      city\n",
    "--------|----------------------|--------|--------|-----------------\n",
    " P1     | Nut                  | Red    |   12.0 | London\n",
    " P2     | Bolt                 | Green  |   17.0 | Paris\n",
    " P3     | Screw                | Blue   |   17.0 | Rome\n",
    " P4     | Screw                | Red    |   14.0 | London\n",
    "\n",
    "\n",
    "Jobs (J):\n",
    "\n",
    " j_id  |         name         |      city\n",
    "-------|----------------------|-----------------\n",
    " J1    | Sorter               | Paris\n",
    " J2    | Display              | Rome\n",
    " J3    | OCR                  | Athens\n",
    " \n",
    "\n",
    "Requests (R):\n",
    "\n",
    " s_id  |  p_id  | j_id  | quantity\n",
    "------|--------|-------|----------\n",
    " S1    | P1     | J1    |      200\n",
    " S2    | P3     | J1    |      400\n",
    " S2    | P3     | J2    |      200\n",
    " S2    | P3     | J3    |      200\n",
    " S3    | P3     | J1    |      200\n",
    " S3    | P4     | J2    |      500\n",
    "\n",
    "For a) and b) since you can't draw tables, please write your answer as comma separated values, including the column headers.\n",
    "e.g.\n",
    "id, column2, column3\n",
    "1, Trevor, Computing\n",
    "2, James, Business\n",
    "3, Sarah, Engineering"
   ]
  },
  {
   "cell_type": "markdown",
   "metadata": {},
   "source": [
    "**a)** $\\pi_{(s.name, status)}(\\sigma_{(j.name='Sorter')}(\\sigma_{(s.city = j.city)}(S \\times J)))$\n"
   ]
  },
  {
   "cell_type": "markdown",
   "metadata": {},
   "source": [
    "`Answer Here`\n",
    "s.name,status\n",
    "Jones,10\n",
    "Blake,30"
   ]
  },
  {
   "cell_type": "markdown",
   "metadata": {},
   "source": [
    "**b)** $\\sigma_{(quantity < 300)}(\\sigma_{(s.city='Paris')}((S \\Join R) \\Join_{(r.p_{id} = p.p_{id})} P))$"
   ]
  },
  {
   "cell_type": "markdown",
   "metadata": {},
   "source": [
    "`Answer Here`\n",
    "s_id,S.name,status,S.city,p_id,j_id,quantity,P.name,colour,weight,P.city\n",
    "S2,Jones,10,Paris,P3,J2,200,Screw,Blue,12.0,London\n",
    "S2,Jones,10,Paris,P3,J3,200,Screw,Blue,12.0,London\n",
    "S3,Blake,30,Paris,P3,J1,200,Screw,Blue,12.0,London"
   ]
  },
  {
   "cell_type": "markdown",
   "metadata": {},
   "source": [
    "**c )** Describe in English what the following RA computes: $\\pi_{(p.name. j.name, j.city, quantity)}(\\sigma_{(j.city=p.city)}(((J \\Join R) \\Join_{(r.p_{id} = p.p_{id})} P)))$"
   ]
  },
  {
   "cell_type": "markdown",
   "metadata": {},
   "source": [
    "`Answer Here`\n",
    "Select the parts' name, jobs' name, jobs' city and the quantity of the supporters whose job city equals part city"
   ]
  },
  {
   "cell_type": "markdown",
   "metadata": {},
   "source": [
    "## 2. SQL\n",
    "Load the provided [dataset](data/spj.sql) into psql (open terminal, navigate to the directory with the script, invoke psql, then \\i spj.sql). These questions refer to the full database provided in the .sql file (NOT the subset used in question 1).\n",
    "\n",
    "Please answer the following questions. Provide both the answer, and the SQL you used to achieve the answer.\n",
    "\n",
    "**a)** Find the names of all suppliers providing parts for the Console job. "
   ]
  },
  {
   "cell_type": "markdown",
   "metadata": {},
   "source": [
    "`Answer Here`"
   ]
  },
  {
   "cell_type": "markdown",
   "metadata": {},
   "source": [
    "**b)** Find the s_id and names of suppliers supplying parts to jobs where the city of the supplier, the part, and the job are all different to each other."
   ]
  },
  {
   "cell_type": "markdown",
   "metadata": {},
   "source": [
    "`Answer Here`"
   ]
  },
  {
   "cell_type": "markdown",
   "metadata": {},
   "source": [
    "**c)** Find all (suppliers, parts) where the supplier doesn't have enough parts to fill their requests."
   ]
  },
  {
   "cell_type": "markdown",
   "metadata": {},
   "source": [
    "`Answer Here`"
   ]
  },
  {
   "cell_type": "markdown",
   "metadata": {},
   "source": [
    "## 3. ER \n",
    "Imagine you work for the public housing agency of a city, and you have been charged with keeping track of who is living in the agency's developments over time, and you have been given the following information:\n",
    "\n",
    "* The city has many public housing developments. You want to record their names, locations, the year they opened, and their height in stories.\n",
    "* For each unit in the development, you want to keep track of the number of bedrooms, the number of bathrooms, whether the unit has a kitchen or living room, and the size in square metres.\n",
    "* The households (tenant groups) living in the units need to be tracked. For each member of a household, you want to record their name, date of birth, sex, and indicate whether or not they are they are the head of the household (more than one person can share that distinction). The city wishes to record information about the household including total counts of maintenance requests, number of complaints, and most recent inspection result. \n",
    "* Households can move into and out of units. The city wants to follow households as they move from one unit to another or from one development to another.  \n",
    "\n",
    "Someone on your team has designed the following ER Diagram. \n",
    "![ER](img/sample_er.jpg)  \n",
    "Comment on whether it captures the above criteria appropriately and whether it is missing anything or can be improved. State your assumptions."
   ]
  },
  {
   "cell_type": "markdown",
   "metadata": {},
   "source": [
    "`Answer Here`"
   ]
  },
  {
   "cell_type": "markdown",
   "metadata": {},
   "source": [
    "# Q4)\n",
    "\n",
    ">### a) \n",
    "What are the differences between XML and HTML?"
   ]
  },
  {
   "cell_type": "markdown",
   "metadata": {},
   "source": [
    "`Answer Here`"
   ]
  },
  {
   "cell_type": "markdown",
   "metadata": {},
   "source": [
    ">### b) \n",
    "What is an XML Schema? Why is it useful to specify a Schema for an XML document?"
   ]
  },
  {
   "cell_type": "markdown",
   "metadata": {},
   "source": [
    "`Answer Here`"
   ]
  },
  {
   "cell_type": "markdown",
   "metadata": {},
   "source": [
    "# Data Science"
   ]
  },
  {
   "cell_type": "code",
   "execution_count": 19,
   "metadata": {},
   "outputs": [],
   "source": [
    "import pandas as pd\n",
    "import numpy as np\n",
    "import seaborn as sns\n",
    "import matplotlib.pyplot as plt\n",
    "from sklearn import datasets\n",
    "from sklearn.linear_model import LinearRegression\n",
    "from sklearn.model_selection import train_test_split, cross_val_score\n",
    "from sklearn.neighbors import KNeighborsClassifier, KNeighborsRegressor\n",
    "from scipy.stats import ttest_ind, ttest_rel, ttest_1samp\n",
    "from sklearn.preprocessing import scale\n",
    "from sklearn.metrics import make_scorer, accuracy_score, r2_score, mean_squared_error\n",
    "from sklearn.tree import DecisionTreeClassifier\n",
    "plt.style.use('seaborn-notebook')\n",
    "## inline figures\n",
    "%matplotlib inline\n",
    "\n",
    "## just to make sure few warnings are not shown\n",
    "import warnings\n",
    "warnings.filterwarnings(\"ignore\")"
   ]
  },
  {
   "cell_type": "code",
   "execution_count": 27,
   "metadata": {},
   "outputs": [],
   "source": [
    "### Put any required extra import here"
   ]
  },
  {
   "cell_type": "markdown",
   "metadata": {},
   "source": [
    "# Q1) State True or False\n",
    "***\n",
    "#### a) Visualization is used for predictive analytics\n",
    "#### b) Presence of categorical values in a dataset means we are performing classification\n",
    "#### c) We can use correlation analysis to predict values\n",
    "#### d) Loss metrics and performance metric are always different in context of ML problems. \n",
    "#### e) A naive classifier that always predicts 0 label in a binary classification will always have an error of 50% for all prediction tasks.\n",
    "***"
   ]
  },
  {
   "cell_type": "markdown",
   "metadata": {},
   "source": [
    "*Answere here*\n",
    "\n",
    "a)`answer`  \n",
    "b)`answer`  \n",
    "c)`answer`  \n",
    "d)`answer`  \n",
    "e)`answer`  "
   ]
  },
  {
   "cell_type": "markdown",
   "metadata": {},
   "source": [
    "# Q2) \n",
    "For each of the following scenarios, determine which plot type is most appropriate to reveal the distribution of and/or the relationships between the variable(s) referd to in each sub question. \n",
    "\n",
    "For each scenario, select with justification only one plot type from the ones listed below. \n",
    "\n",
    "A. histogram  \n",
    "B. pie chart  \n",
    "C. bar plot  \n",
    "D. line plot  \n",
    "E. side-by-side boxplots  \n",
    "F. scatter plot  \n",
    "G. stacked bar plot   "
   ]
  },
  {
   "cell_type": "markdown",
   "metadata": {},
   "source": [
    "> ### a) \n",
    "sale price and number of bedrooms (assume integer) for houses sold in Canberra in 2010."
   ]
  },
  {
   "cell_type": "markdown",
   "metadata": {},
   "source": [
    "*Answer here*"
   ]
  },
  {
   "cell_type": "markdown",
   "metadata": {},
   "source": [
    "> ### b) \n",
    "sale price and date of sale for houses sold in Canberra between 2000 and 2017."
   ]
  },
  {
   "cell_type": "markdown",
   "metadata": {},
   "source": [
    "*Answer here*"
   ]
  },
  {
   "cell_type": "markdown",
   "metadata": {},
   "source": [
    "> ### c)\n",
    "time taken by ANU employees in minutes to reach university for year 2017."
   ]
  },
  {
   "cell_type": "markdown",
   "metadata": {},
   "source": [
    "*Answer here*"
   ]
  },
  {
   "cell_type": "markdown",
   "metadata": {},
   "source": [
    "> ### d) \n",
    "country of nationality for students admitted to ANU in 2016, assuming you can combine countries with less than 100 students together."
   ]
  },
  {
   "cell_type": "markdown",
   "metadata": {},
   "source": [
    "*Answer here*"
   ]
  },
  {
   "cell_type": "markdown",
   "metadata": {},
   "source": [
    "> ### e)\n",
    "The percentage of female student admitted to ANU each year from 1950 to 2017."
   ]
  },
  {
   "cell_type": "markdown",
   "metadata": {},
   "source": [
    "*Answer here*"
   ]
  },
  {
   "cell_type": "markdown",
   "metadata": {},
   "source": [
    "# Q3)\n",
    "Some rabbits on the ANU campus are wild animals and some are pets! Your friend is a ANU rabbit expert. She says that two useful features for classifying rabbits are the proportion of their fur that is clean (vertical axis) and their weight (horizontal axis). She identifies several rabbits for you, but leaves two “Unknown” rabbits for you to classify. No two rabbits have exactly the same features.\n",
    "You decide to construct a classifier for the “Unknown” rabbits using all of the known “Pet” and “Wild” rabbits as the training set.  \n",
    "\n",
    "\n",
    "*** The horizontal and vertical axes have different scales in this scatter diagram! ***  \n",
    "*** Assume centre of each shape to be the datapoint***\n",
    "\n",
    "![Classification](img/class.jpg)"
   ]
  },
  {
   "cell_type": "markdown",
   "metadata": {},
   "source": [
    ">### a)\n",
    "How would each unknown rabbit be classified by a 1-nearest-neighbor classifier that uses only the “clean fur” feature on the vertical axis and ignores the weight? We will refer two unknown rabbits as follows:\n",
    "\n",
    "i) Bottom-left unknown  \n",
    "ii) Middle unknown\n"
   ]
  },
  {
   "cell_type": "markdown",
   "metadata": {},
   "source": [
    "*Answer here*  \n",
    "i) `answer`  \n",
    "ii) `answer`"
   ]
  },
  {
   "cell_type": "markdown",
   "metadata": {},
   "source": [
    ">### b) \n",
    "What will be the classification of a test point for 9-nearest- neighbor classifier using this training set, use both features? Briefly justify your answer in less than 150 words."
   ]
  },
  {
   "cell_type": "markdown",
   "metadata": {},
   "source": [
    "*Answer here*"
   ]
  },
  {
   "cell_type": "markdown",
   "metadata": {},
   "source": [
    ">### c) \n",
    "On the scatter plot at the top of the page, in any order, name the class of three nearest neighbours for the bottom left unknown point, using both features to compute distance.\n"
   ]
  },
  {
   "cell_type": "markdown",
   "metadata": {},
   "source": [
    "*Answer here*"
   ]
  },
  {
   "cell_type": "markdown",
   "metadata": {},
   "source": [
    "# Q4) \n",
    "We have Capital Bikeshare trip data, look [here](data/capitalbikeshare-tripdata.csv). The data includes following fields:\n",
    "\n",
    "* Duration – Duration of trip in seconds\n",
    "* Start Date – Includes start date and time\n",
    "* End Date – Includes end date and time\n",
    "* Start Station – Includes starting station name and number\n",
    "* End Station – Includes ending station name and number\n",
    "* Bike Number – Includes ID number of bike used for the trip\n",
    "* Member Type – Indicates whether user was a \"registered\" member or a \"casual\" rider \n",
    "\n",
    "The filename is `data/capitalbikeshare-tripdata.csv` and data is pipe('|') delimited. Also note there no stations which appear only either as 'Start station' or 'End station'."
   ]
  },
  {
   "cell_type": "markdown",
   "metadata": {},
   "source": [
    ">### a)\n",
    "\n",
    ">Load data into a pandas dataframe named bike_shares. The file to be read is `data/capitalbikeshare-tripdata.csv`. You might need to change datatypes of few columns. Please justify your choice.\n",
    "Briefly describe this data by looking at summary of different fields."
   ]
  },
  {
   "cell_type": "code",
   "execution_count": 44,
   "metadata": {},
   "outputs": [],
   "source": [
    "### Code here"
   ]
  },
  {
   "cell_type": "markdown",
   "metadata": {},
   "source": [
    "`Written answer here`"
   ]
  },
  {
   "cell_type": "markdown",
   "metadata": {},
   "source": [
    ">### b)\n",
    "\n",
    ">Which are 5 most popular stations, give both name and number? Popularity is defined by the total number of trips that either start or end at a particular station.  \n"
   ]
  },
  {
   "cell_type": "code",
   "execution_count": 1,
   "metadata": {},
   "outputs": [],
   "source": [
    "### Code here"
   ]
  },
  {
   "cell_type": "markdown",
   "metadata": {},
   "source": [
    "`Written answer here'"
   ]
  },
  {
   "cell_type": "markdown",
   "metadata": {},
   "source": [
    ">### c)\n",
    "\n",
    ">Find the bike that has been on road for longest period."
   ]
  },
  {
   "cell_type": "code",
   "execution_count": 2,
   "metadata": {},
   "outputs": [],
   "source": [
    "### Code here"
   ]
  },
  {
   "cell_type": "markdown",
   "metadata": {},
   "source": [
    ">### d)\n",
    ">Do casual users have a ride duration different to that of members? Justify your approach.\n"
   ]
  },
  {
   "cell_type": "code",
   "execution_count": 3,
   "metadata": {},
   "outputs": [],
   "source": [
    "### Code here"
   ]
  },
  {
   "cell_type": "markdown",
   "metadata": {},
   "source": [
    "`Written answer here`"
   ]
  },
  {
   "cell_type": "markdown",
   "metadata": {},
   "source": [
    ">### e)\n",
    "\n",
    ">Visualize the duration of trips starting from the 8 most popular stations? Popularity is defined by the total number of trips that either start or end at a particular station.  \n",
    "\n",
    "> Summarize your findings."
   ]
  },
  {
   "cell_type": "code",
   "execution_count": 18,
   "metadata": {},
   "outputs": [],
   "source": [
    "### Code here"
   ]
  },
  {
   "cell_type": "markdown",
   "metadata": {},
   "source": [
    "`Written answer here`"
   ]
  },
  {
   "cell_type": "markdown",
   "metadata": {},
   "source": [
    "# Q5)\n",
    "\n",
    "Your friend David is impressed by your knowledge of data science. He is asking you to help him buy his next house in Canberra. He has historical data about house prices in Canberra from 1980 to 2017. He thinks that you can help him decide how much to spend for a 2 bedroom apartment in Canberra, depending on various factors like suburb, number of bedrooms/car-parks/washrooms, nearness to amenities, size of built-up area, type of building etc. He also needs advice on whether a deal of $400k  for a new two bedroom apartment in Dickson (a suburb of Canberra) is good or not?\n"
   ]
  },
  {
   "cell_type": "markdown",
   "metadata": {},
   "source": [
    ">### a)\n",
    "Assume  you decided to use a machine learning model to solve this problem. What kind of model do you need here? What techniques you can use and what are their advantages and disadvantages w.r.t. each other?"
   ]
  },
  {
   "cell_type": "markdown",
   "metadata": {},
   "source": [
    "`Answer here`"
   ]
  },
  {
   "cell_type": "markdown",
   "metadata": {},
   "source": [
    ">### b) \n",
    "\n",
    "> Can you solve the problems of price and choice by training a single model? Justify your answer and if yes explain how this can be done?"
   ]
  },
  {
   "cell_type": "markdown",
   "metadata": {},
   "source": [
    "`Answer here`"
   ]
  },
  {
   "cell_type": "markdown",
   "metadata": {},
   "source": [
    "# Q6) \n",
    "\n",
    "What is recall? Discuss why you should or should not use recall as the only measure to evaluate the performance of your classifier. Please provide a concrete example with your answer.  \n",
    "\n",
    "*Only well justified answers will get marks. No marks for stating a simple yes or no.*"
   ]
  },
  {
   "cell_type": "markdown",
   "metadata": {},
   "source": [
    "`Answer here`"
   ]
  },
  {
   "cell_type": "markdown",
   "metadata": {},
   "source": [
    "# Q7)\n",
    "Explain the importance of using a validation set in machine learning experiments. What can you do when you are explicitly not provided a validation set? "
   ]
  },
  {
   "cell_type": "markdown",
   "metadata": {},
   "source": [
    "`Answer Here`"
   ]
  },
  {
   "cell_type": "markdown",
   "metadata": {},
   "source": [
    "# Q8) \n",
    "What is cross-validation and why is it useful? Describe a scenario where using cross-validation is not correct and suggest an alternative."
   ]
  },
  {
   "cell_type": "markdown",
   "metadata": {},
   "source": [
    "`Answer here` "
   ]
  },
  {
   "cell_type": "markdown",
   "metadata": {},
   "source": [
    "# Q9) \n",
    "\n",
    "The [Diabetes dataset](data/diabetes.tab.txt) contains ten baseline variables - age, sex, body mass index, average blood pressure, and six blood serum measurements - obtained for each of n = 442 diabetes patients, as well as  a quantitative measure of disease progression one year after baseline (column named 'Y'). \n",
    "\n",
    "Your task is to predict the disease progression for each patient based on the given data. We have already split data into two parts: train and test sets. diab_train is training data and diab_test is testing data"
   ]
  },
  {
   "cell_type": "code",
   "execution_count": 51,
   "metadata": {},
   "outputs": [
    {
     "name": "stdout",
     "output_type": "stream",
     "text": [
      "              AGE         SEX         BMI          BP          S1          S2  \\\n",
      "count  442.000000  442.000000  442.000000  442.000000  442.000000  442.000000   \n",
      "mean    48.518100    1.468326   26.375792   94.647014  189.140271  115.439140   \n",
      "std     13.109028    0.499561    4.418122   13.831283   34.608052   30.413081   \n",
      "min     19.000000    1.000000   18.000000   62.000000   97.000000   41.600000   \n",
      "25%     38.250000    1.000000   23.200000   84.000000  164.250000   96.050000   \n",
      "50%     50.000000    1.000000   25.700000   93.000000  186.000000  113.000000   \n",
      "75%     59.000000    2.000000   29.275000  105.000000  209.750000  134.500000   \n",
      "max     79.000000    2.000000   42.200000  133.000000  301.000000  242.400000   \n",
      "\n",
      "               S3          S4          S5          S6           Y  \n",
      "count  442.000000  442.000000  442.000000  442.000000  442.000000  \n",
      "mean    49.788462    4.070249    4.641411   91.260181  152.133484  \n",
      "std     12.934202    1.290450    0.522391   11.496335   77.093005  \n",
      "min     22.000000    2.000000    3.258100   58.000000   25.000000  \n",
      "25%     40.250000    3.000000    4.276700   83.250000   87.000000  \n",
      "50%     48.000000    4.000000    4.620050   91.000000  140.500000  \n",
      "75%     57.750000    5.000000    4.997200   98.000000  211.500000  \n",
      "max     99.000000    9.090000    6.107000  124.000000  346.000000  \n"
     ]
    }
   ],
   "source": [
    "### Do not edit this cell\n",
    "diab = pd.read_csv('data/diabetes.tab.txt', delimiter='\\t')\n",
    "print(diab.describe())\n",
    "diab =  diab.iloc[np.random.permutation(len(diab))]\n",
    "diab_train = diab.head(300)\n",
    "diab_test = diab.tail(142)"
   ]
  },
  {
   "cell_type": "markdown",
   "metadata": {},
   "source": [
    "> ### a) \n",
    "Build a linear regression model to predict Y by using `diab_train` as training data and `diab_test` as testing data. \n",
    "Report your test error along with coefficients of your model. You should use all the features while building your model."
   ]
  },
  {
   "cell_type": "code",
   "execution_count": 5,
   "metadata": {},
   "outputs": [],
   "source": [
    "### Code here"
   ]
  },
  {
   "cell_type": "markdown",
   "metadata": {},
   "source": [
    "> ### b) \n",
    "Again build regression model for the task as above (Q8 a) but with varying amount of data used as training samples from diab_train. The amount of data to be used for training should be vary from 100(inclusive) to 300(inclusive) in steps of 20. Report train and test error for each of the cases and plot it in a graph. Please write a brief summary of your findings from the graph."
   ]
  },
  {
   "cell_type": "code",
   "execution_count": 4,
   "metadata": {},
   "outputs": [],
   "source": [
    "### Code here"
   ]
  },
  {
   "cell_type": "markdown",
   "metadata": {},
   "source": [
    "`Answer Here`"
   ]
  },
  {
   "cell_type": "markdown",
   "metadata": {},
   "source": [
    "# Security"
   ]
  },
  {
   "cell_type": "markdown",
   "metadata": {},
   "source": [
    "**Q1.** Bob wants to send a signed, confidential message to Alice. Discuss\n",
    "how he could go about doing this using cryptographic techniques? What\n",
    "are the pros and cons of your suggested approach?"
   ]
  },
  {
   "cell_type": "markdown",
   "metadata": {},
   "source": [
    "`Answer Here`"
   ]
  },
  {
   "cell_type": "markdown",
   "metadata": {},
   "source": [
    "**Q2.** Bob and Tom both want to sign a contract and send it confidentially\n",
    "to Alice. They work in different locations, but have access to the\n",
    "Internet. Describe how they would go about doing this using public key\n",
    "cryptography, as a sequence of steps. How will Alice verify the\n",
    "signatures on the signed contract?\n"
   ]
  },
  {
   "cell_type": "markdown",
   "metadata": {},
   "source": [
    "`Answer Here`"
   ]
  },
  {
   "cell_type": "markdown",
   "metadata": {},
   "source": [
    " **Implementation related (practical) questions may also be asked.**"
   ]
  }
 ],
 "metadata": {
  "kernelspec": {
   "display_name": "Python 3",
   "language": "python",
   "name": "python3"
  },
  "language_info": {
   "codemirror_mode": {
    "name": "ipython",
    "version": 3
   },
   "file_extension": ".py",
   "mimetype": "text/x-python",
   "name": "python",
   "nbconvert_exporter": "python",
   "pygments_lexer": "ipython3",
   "version": "3.6.4"
  }
 },
 "nbformat": 4,
 "nbformat_minor": 2
}
